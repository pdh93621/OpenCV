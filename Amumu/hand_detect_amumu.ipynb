{
 "cells": [
  {
   "cell_type": "code",
   "execution_count": 1,
   "source": [
    "import imutils\r\n",
    "import numpy as np\r\n",
    "import cv2\r\n",
    "import os"
   ],
   "outputs": [],
   "metadata": {}
  },
  {
   "cell_type": "code",
   "execution_count": 2,
   "source": [
    "#hsv\r\n",
    "#lower = np.array([0,30,0], dtype = \"uint8\")\r\n",
    "#upper = np.array([15, 255, 255], dtype = \"uint8\")\r\n",
    "lower = np.array([0,125,77], dtype = \"uint8\")\r\n",
    "upper = np.array([255, 200, 150], dtype = \"uint8\")"
   ],
   "outputs": [],
   "metadata": {}
  },
  {
   "cell_type": "code",
   "execution_count": 11,
   "source": [
    "path = os.path.join(os.getcwd(), 'amumu\\\\amumu1.mp4')\r\n",
    "# os.system(f'start {path}')\r\n",
    "print(path)"
   ],
   "outputs": [
    {
     "output_type": "stream",
     "name": "stdout",
     "text": [
      "c:\\Preprocessing\\OpenCV\\Amumu\\amumu\\amumu1.mp4\n"
     ]
    }
   ],
   "metadata": {}
  },
  {
   "cell_type": "code",
   "execution_count": 22,
   "source": [
    "#i = 1\r\n",
    "#videopath = os.path.join(os.getcwd(), f'amumu/amumu{i}.mp4')\r\n",
    "camera = cv2.VideoCapture('C:/Preprocessing/amumu/amumu8.mp4')\r\n",
    "\r\n",
    "while True:\r\n",
    "\r\n",
    "    grabbed, frame = camera.read()\r\n",
    "\r\n",
    "    if not grabbed:\r\n",
    "        break\r\n",
    "    \r\n",
    "    converted = cv2.cvtColor(frame, cv2.COLOR_BGR2YCrCb)\r\n",
    "    skinMask = cv2.inRange(converted, lower, upper)\r\n",
    "\r\n",
    "    kernel = cv2.getStructuringElement(cv2.MORPH_ELLIPSE, (11,11))\r\n",
    "    skinMask = cv2.dilate(skinMask, kernel, iterations = 1)\r\n",
    "\r\n",
    "    skinMask = cv2.GaussianBlur(skinMask, (3,3), 0)\r\n",
    "\r\n",
    "    #line,_ = cv2.findContours(skinMask, cv2.RETR_EXTERNAL, cv2.CHAIN_APPROX_SIMPLE)\r\n",
    "    #cv2.drawContours(frame, line, -1, (255,255,255), cv2.FILLED)\r\n",
    "    #cv2.drawContours(frame, line, -1, (255,255,255))\r\n",
    "    \r\n",
    "    cv2.imshow(\"images\", skinMask)\r\n",
    "    \r\n",
    "    if cv2.waitKey(1) & 0xFF == ord(\"q\"):\r\n",
    "        break\r\n",
    "\r\n",
    "camera.release()\r\n",
    "cv2.destroyAllWindows()\r\n"
   ],
   "outputs": [],
   "metadata": {}
  },
  {
   "cell_type": "code",
   "execution_count": 24,
   "source": [
    "pth = 'D:/Hyens_Projects/OpenCV/Amumu/amumu/amumu1.mp4'\r\n",
    "camera = cv2.VideoCapture(pth)\r\n",
    "i = 0\r\n",
    "while True:\r\n",
    "    \r\n",
    "    grabbed, frame = camera.read()\r\n",
    "\r\n",
    "    if not grabbed:\r\n",
    "        break\r\n",
    "    \r\n",
    "    converted = cv2.cvtColor(frame, cv2.COLOR_BGR2YCrCb)\r\n",
    "    skinMask = cv2.inRange(converted, lower, upper)\r\n",
    "\r\n",
    "    kernel = cv2.getStructuringElement(cv2.MORPH_ELLIPSE, (4,4))\r\n",
    "    skinMask = cv2.erode(skinMask, kernel, iterations = 6)\r\n",
    "    kernel = cv2.getStructuringElement(cv2.MORPH_ELLIPSE, (2,2))\r\n",
    "    skinMask = cv2.dilate(skinMask, kernel, iterations = 1)\r\n",
    "    skinMask = cv2.GaussianBlur(skinMask, (3,3), 0)\r\n",
    "\r\n",
    "    #line,_ = cv2.findContours(skinMask, cv2.RETR_EXTERNAL, cv2.CHAIN_APPROX_SIMPLE)\r\n",
    "    #cv2.drawContours(frame, line, -1, (255,255,255), cv2.FILLED)\r\n",
    "    #cv2.drawContours(frame, line, -1, (255,255,255))\r\n",
    "    \r\n",
    "    cv2.imwrite(f'D:/Hyens_Projects/OpenCV/Amumu/saved_amumu/original{i}.jpg',frame)\r\n",
    "    cv2.imwrite(f'D:/Hyens_Projects/OpenCV/Amumu/saved_amumu/mask{i}.jpg',skinMask)\r\n",
    "    i += 1 \r\n"
   ],
   "outputs": [],
   "metadata": {}
  },
  {
   "cell_type": "code",
   "execution_count": 26,
   "source": [
    "original0 = cv2.imread('C:/Preprocessing/OpenCV/Amumu/saved_amumu/original0.jpg')\r\n",
    "mask0 = cv2.imread('C:/Preprocessing/OpenCV/Amumu/saved_amumu/mask0.jpg')"
   ],
   "outputs": [],
   "metadata": {}
  },
  {
   "cell_type": "code",
   "execution_count": 27,
   "source": [
    "black = original0*0"
   ],
   "outputs": [],
   "metadata": {}
  },
  {
   "cell_type": "code",
   "execution_count": 28,
   "source": [
    "good = cv2.copyTo(original0, mask0, black)"
   ],
   "outputs": [],
   "metadata": {}
  },
  {
   "cell_type": "code",
   "execution_count": 29,
   "source": [
    "black.shape"
   ],
   "outputs": [
    {
     "output_type": "execute_result",
     "data": {
      "text/plain": [
       "(1080, 1920, 3)"
      ]
     },
     "metadata": {},
     "execution_count": 29
    }
   ],
   "metadata": {}
  },
  {
   "cell_type": "code",
   "execution_count": 30,
   "source": [
    "cv2.imshow('good', good)\r\n",
    "cv2.waitKey(0)\r\n",
    "cv2.destroyAllWindows()"
   ],
   "outputs": [],
   "metadata": {}
  },
  {
   "cell_type": "code",
   "execution_count": 25,
   "source": [
    "cv2.imwrite('hand_amumu.jpg', good)"
   ],
   "outputs": [
    {
     "output_type": "execute_result",
     "data": {
      "text/plain": [
       "True"
      ]
     },
     "metadata": {},
     "execution_count": 25
    }
   ],
   "metadata": {}
  },
  {
   "cell_type": "code",
   "execution_count": 31,
   "source": [
    "original0 = cv2.imread('D:/Hyens_Projects/OpenCV/Amumu/saved_amumu/original0.jpg')\r\n",
    "converted = cv2.cvtColor(original0, cv2.COLOR_BGR2YCrCb)\r\n",
    "skinMask = cv2.inRange(converted, lower, upper)\r\n",
    "\r\n",
    "kernel = cv2.getStructuringElement(cv2.MORPH_ELLIPSE, (15,15))\r\n",
    "skinMask = cv2.dilate(skinMask, kernel, iterations = 3)\r\n",
    "skinMask = cv2.GaussianBlur(skinMask, (3,3), 0)\r\n",
    "line,_ = cv2.findContours(skinMask, cv2.RETR_EXTERNAL, cv2.CHAIN_APPROX_SIMPLE)\r\n",
    "cv2.drawContours(original0, line, -1, (255,255,255))\r\n",
    "\r\n",
    "cv2.imshow(\"images\", original0)\r\n",
    "cv2.waitKey(0)\r\n",
    "cv2.destroyAllWindows()"
   ],
   "outputs": [],
   "metadata": {}
  },
  {
   "cell_type": "code",
   "execution_count": 34,
   "source": [
    "x,y,w,h = cv2.boundingRect(line[0])\r\n",
    "original0 = cv2.imread('D:/Hyens_Projects/OpenCV/Amumu/saved_amumu/original0.jpg')\r\n",
    "cv2.rectangle(original0, (x,y), (x+w, y+h), (0,0,0), 3)\r\n",
    "cv2.imshow(\"images\", original0)\r\n",
    "cv2.waitKey(0)\r\n",
    "cv2.destroyAllWindows()"
   ],
   "outputs": [],
   "metadata": {}
  },
  {
   "cell_type": "code",
   "execution_count": 31,
   "source": [
    "import os"
   ],
   "outputs": [],
   "metadata": {}
  },
  {
   "cell_type": "code",
   "execution_count": 32,
   "source": [
    "os.getcwd()"
   ],
   "outputs": [
    {
     "output_type": "execute_result",
     "data": {
      "text/plain": [
       "'c:\\\\Preprocessing\\\\OpenCV\\\\Amumu'"
      ]
     },
     "metadata": {},
     "execution_count": 32
    }
   ],
   "metadata": {}
  },
  {
   "cell_type": "code",
   "execution_count": 38,
   "source": [
    "amumus = 'amumus'\r\n",
    "medias = os.path.join(os.getcwd(), amumus)\r\n",
    "print(medias)"
   ],
   "outputs": [
    {
     "output_type": "stream",
     "name": "stdout",
     "text": [
      "c:\\Preprocessing\\OpenCV\\Amumu\\amumus\n"
     ]
    }
   ],
   "metadata": {}
  },
  {
   "cell_type": "code",
   "execution_count": 36,
   "source": [
    "motions = os.listdir(medias)"
   ],
   "outputs": [],
   "metadata": {}
  },
  {
   "cell_type": "code",
   "execution_count": 45,
   "source": [
    "for motion in motions:\r\n",
    "    hands_path = os.path.join(medias, motion)\r\n",
    "    hands = os.listdir(hands_path)\r\n",
    "    #print(hands)\r\n",
    "    i = 0\r\n",
    "    for hand in hands:\r\n",
    "        hand_path = os.path.join(hands_path, hand)\r\n",
    "        print(f'{i}th', motion, ': ', hand_path, hand)\r\n",
    "        i += 1    "
   ],
   "outputs": [
    {
     "output_type": "stream",
     "name": "stdout",
     "text": [
      "0th five :  c:\\Preprocessing\\OpenCV\\Amumu\\amumus\\five\\amumu8.mp4 amumu8.mp4\n",
      "0th four :  c:\\Preprocessing\\OpenCV\\Amumu\\amumus\\four\\amumu7.mp4 amumu7.mp4\n",
      "0th K :  c:\\Preprocessing\\OpenCV\\Amumu\\amumus\\K\\amumu10.mp4 amumu10.mp4\n",
      "0th L :  c:\\Preprocessing\\OpenCV\\Amumu\\amumus\\L\\amumu9.mp4 amumu9.mp4\n",
      "0th one :  c:\\Preprocessing\\OpenCV\\Amumu\\amumus\\one\\amumu4.mp4 amumu4.mp4\n",
      "0th three :  c:\\Preprocessing\\OpenCV\\Amumu\\amumus\\three\\amumu6.mp4 amumu6.mp4\n",
      "0th two :  c:\\Preprocessing\\OpenCV\\Amumu\\amumus\\two\\amumu5.mp4 amumu5.mp4\n",
      "0th zero :  c:\\Preprocessing\\OpenCV\\Amumu\\amumus\\zero\\amumu1.mp4 amumu1.mp4\n",
      "1th zero :  c:\\Preprocessing\\OpenCV\\Amumu\\amumus\\zero\\amumu2.mp4 amumu2.mp4\n",
      "2th zero :  c:\\Preprocessing\\OpenCV\\Amumu\\amumus\\zero\\amumu3.mp4 amumu3.mp4\n"
     ]
    }
   ],
   "metadata": {}
  },
  {
   "cell_type": "code",
   "execution_count": 1,
   "source": [
    "save_folder = 'saved_amumu'\r\n",
    "save_folder_path = os.path.join(os.getcwd(), save_folder)"
   ],
   "outputs": [],
   "metadata": {}
  },
  {
   "cell_type": "code",
   "execution_count": 2,
   "source": [
    "save_folder_path"
   ],
   "outputs": [
    {
     "output_type": "execute_result",
     "data": {
      "text/plain": [
       "'c:\\\\Preprocessing\\\\OpenCV\\\\Amumu\\\\saved_amumu'"
      ]
     },
     "metadata": {},
     "execution_count": 2
    }
   ],
   "metadata": {}
  },
  {
   "cell_type": "code",
   "execution_count": 3,
   "source": [
    "l = 1\r\n",
    "\r\n",
    "a = 3.15\r\n",
    "b = 3.17\r\n",
    "c = 3.49\r\n",
    "\r\n",
    "f = open(\"test.txt\", \"w\")\r\n",
    "f.write(f\"{l} {a} {b} {c}\\n\")\r\n",
    "f.close()"
   ],
   "outputs": [],
   "metadata": {}
  },
  {
   "cell_type": "code",
   "execution_count": 4,
   "source": [
    "amumus = 'amumus'\r\n",
    "medias = os.path.join(os.getcwd(), amumus)\r\n",
    "motions = os.listdir(medias)"
   ],
   "outputs": [],
   "metadata": {}
  },
  {
   "cell_type": "code",
   "execution_count": 5,
   "source": [
    "motions"
   ],
   "outputs": [
    {
     "output_type": "execute_result",
     "data": {
      "text/plain": [
       "['five', 'four', 'K', 'L', 'one', 'three', 'two', 'zero']"
      ]
     },
     "metadata": {},
     "execution_count": 5
    }
   ],
   "metadata": {}
  },
  {
   "cell_type": "code",
   "execution_count": 6,
   "source": [
    "os.getcwd()"
   ],
   "outputs": [
    {
     "output_type": "execute_result",
     "data": {
      "text/plain": [
       "'c:\\\\Preprocessing\\\\OpenCV\\\\Amumu'"
      ]
     },
     "metadata": {},
     "execution_count": 6
    }
   ],
   "metadata": {}
  },
  {
   "cell_type": "code",
   "execution_count": 7,
   "source": [
    "import os\r\n",
    "path= os.path.dirname(os.path.abspath(__file__))\r\n",
    "print(path)"
   ],
   "outputs": [
    {
     "output_type": "error",
     "ename": "NameError",
     "evalue": "name '__file__' is not defined",
     "traceback": [
      "\u001b[1;31m---------------------------------------------------------------------------\u001b[0m",
      "\u001b[1;31mNameError\u001b[0m                                 Traceback (most recent call last)",
      "\u001b[1;32m<ipython-input-7-a12fc2283546>\u001b[0m in \u001b[0;36m<module>\u001b[1;34m\u001b[0m\n\u001b[0;32m      1\u001b[0m \u001b[1;32mimport\u001b[0m \u001b[0mos\u001b[0m\u001b[1;33m\u001b[0m\u001b[1;33m\u001b[0m\u001b[0m\n\u001b[1;32m----> 2\u001b[1;33m \u001b[0mpath\u001b[0m\u001b[1;33m=\u001b[0m \u001b[0mos\u001b[0m\u001b[1;33m.\u001b[0m\u001b[0mpath\u001b[0m\u001b[1;33m.\u001b[0m\u001b[0mdirname\u001b[0m\u001b[1;33m(\u001b[0m\u001b[0mos\u001b[0m\u001b[1;33m.\u001b[0m\u001b[0mpath\u001b[0m\u001b[1;33m.\u001b[0m\u001b[0mabspath\u001b[0m\u001b[1;33m(\u001b[0m\u001b[0m__file__\u001b[0m\u001b[1;33m)\u001b[0m\u001b[1;33m)\u001b[0m\u001b[1;33m\u001b[0m\u001b[1;33m\u001b[0m\u001b[0m\n\u001b[0m\u001b[0;32m      3\u001b[0m \u001b[0mprint\u001b[0m\u001b[1;33m(\u001b[0m\u001b[0mpath\u001b[0m\u001b[1;33m)\u001b[0m\u001b[1;33m\u001b[0m\u001b[1;33m\u001b[0m\u001b[0m\n",
      "\u001b[1;31mNameError\u001b[0m: name '__file__' is not defined"
     ]
    }
   ],
   "metadata": {}
  },
  {
   "cell_type": "code",
   "execution_count": 10,
   "source": [
    "INSTALL_PATH = os.path.dirname(sys.argv[0])"
   ],
   "outputs": [],
   "metadata": {}
  },
  {
   "cell_type": "code",
   "execution_count": 11,
   "source": [
    "print(INSTALL_PATH)"
   ],
   "outputs": [
    {
     "output_type": "stream",
     "name": "stdout",
     "text": [
      "C:\\Users\\User\\anaconda3\\lib\\site-packages\n"
     ]
    }
   ],
   "metadata": {}
  },
  {
   "cell_type": "code",
   "execution_count": null,
   "source": [],
   "outputs": [],
   "metadata": {}
  }
 ],
 "metadata": {
  "orig_nbformat": 4,
  "language_info": {
   "name": "python",
   "version": "3.8.5",
   "mimetype": "text/x-python",
   "codemirror_mode": {
    "name": "ipython",
    "version": 3
   },
   "pygments_lexer": "ipython3",
   "nbconvert_exporter": "python",
   "file_extension": ".py"
  },
  "kernelspec": {
   "name": "python3",
   "display_name": "Python 3.8.5 64-bit ('base': conda)"
  },
  "interpreter": {
   "hash": "8fac594bfae6525c0c41b4041d2d72effa188cc8ead05f81b1fab2bb098927fb"
  }
 },
 "nbformat": 4,
 "nbformat_minor": 2
}
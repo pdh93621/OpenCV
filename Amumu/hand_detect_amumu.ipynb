{
 "cells": [
  {
   "cell_type": "code",
   "execution_count": 1,
   "source": [
    "import imutils\r\n",
    "import numpy as np\r\n",
    "import cv2\r\n",
    "import os"
   ],
   "outputs": [],
   "metadata": {}
  },
  {
   "cell_type": "code",
   "execution_count": 2,
   "source": [
    "#hsv\r\n",
    "#lower = np.array([0,30,0], dtype = \"uint8\")\r\n",
    "#upper = np.array([15, 255, 255], dtype = \"uint8\")\r\n",
    "lower = np.array([0,125,77], dtype = \"uint8\")\r\n",
    "upper = np.array([255, 200, 150], dtype = \"uint8\")"
   ],
   "outputs": [],
   "metadata": {}
  },
  {
   "cell_type": "code",
   "execution_count": 3,
   "source": [
    "os.path.join(os.getcwd(), 'amumu/amumu1.mp4')"
   ],
   "outputs": [
    {
     "output_type": "execute_result",
     "data": {
      "text/plain": [
       "'d:\\\\Hyens_Projects\\\\Amumu\\\\amumu/amumu1.mp4'"
      ]
     },
     "metadata": {},
     "execution_count": 3
    }
   ],
   "metadata": {}
  },
  {
   "cell_type": "code",
   "execution_count": 4,
   "source": [
    "#i = 1\r\n",
    "#videopath = os.path.join(os.getcwd(), f'amumu/amumu{i}.mp4')\r\n",
    "pth = 'D:/Hyens_Projects/Amumu/amumu/amumu1.mp4'\r\n",
    "camera = cv2.VideoCapture(pth)\r\n",
    "\r\n",
    "while True:\r\n",
    "\r\n",
    "    grabbed, frame = camera.read()\r\n",
    "\r\n",
    "    if not grabbed:\r\n",
    "        break\r\n",
    "    \r\n",
    "    converted = cv2.cvtColor(frame, cv2.COLOR_BGR2YCrCb)\r\n",
    "    skinMask = cv2.inRange(converted, lower, upper)\r\n",
    "\r\n",
    "    kernel = cv2.getStructuringElement(cv2.MORPH_ELLIPSE, (11,11))\r\n",
    "    skinMask = cv2.dilate(skinMask, kernel, iterations = 1)\r\n",
    "\r\n",
    "    skinMask = cv2.GaussianBlur(skinMask, (3,3), 0)\r\n",
    "\r\n",
    "    #line,_ = cv2.findContours(skinMask, cv2.RETR_EXTERNAL, cv2.CHAIN_APPROX_SIMPLE)\r\n",
    "    #cv2.drawContours(frame, line, -1, (255,255,255), cv2.FILLED)\r\n",
    "    #cv2.drawContours(frame, line, -1, (255,255,255))\r\n",
    "    \r\n",
    "    cv2.imshow(\"images\", skinMask)\r\n",
    "    \r\n",
    "    if cv2.waitKey(1) & 0xFF == ord(\"q\"):\r\n",
    "        break\r\n",
    "\r\n",
    "camera.release()\r\n",
    "cv2.destroyAllWindows()\r\n"
   ],
   "outputs": [],
   "metadata": {}
  },
  {
   "cell_type": "code",
   "execution_count": 7,
   "source": [
    "pth = 'D:/Hyens_Projects/Amumu/amumu/amumu1.mp4'\r\n",
    "camera = cv2.VideoCapture(pth)\r\n",
    "i = 0\r\n",
    "while True:\r\n",
    "    \r\n",
    "    grabbed, frame = camera.read()\r\n",
    "\r\n",
    "    if not grabbed:\r\n",
    "        break\r\n",
    "    \r\n",
    "    converted = cv2.cvtColor(frame, cv2.COLOR_BGR2YCrCb)\r\n",
    "    skinMask = cv2.inRange(converted, lower, upper)\r\n",
    "\r\n",
    "    kernel = cv2.getStructuringElement(cv2.MORPH_ELLIPSE, (1,1))\r\n",
    "    skinMask = cv2.dilate(skinMask, kernel, iterations = 1)\r\n",
    "\r\n",
    "    skinMask = cv2.GaussianBlur(skinMask, (3,3), 0)\r\n",
    "\r\n",
    "    #line,_ = cv2.findContours(skinMask, cv2.RETR_EXTERNAL, cv2.CHAIN_APPROX_SIMPLE)\r\n",
    "    #cv2.drawContours(frame, line, -1, (255,255,255), cv2.FILLED)\r\n",
    "    #cv2.drawContours(frame, line, -1, (255,255,255))\r\n",
    "    \r\n",
    "    cv2.imwrite(f'D:/Hyens_Projects/Amumu/saved_amumu/original{i}.jpg',frame)\r\n",
    "    cv2.imwrite(f'D:/Hyens_Projects/Amumu/saved_amumu/mask{i}.jpg',skinMask)\r\n",
    "    i += 1\r\n"
   ],
   "outputs": [],
   "metadata": {}
  },
  {
   "cell_type": "code",
   "execution_count": 5,
   "source": [
    "original0 = cv2.imread('D:/Hyens_Projects/Amumu/saved_amumu/original0.jpg')\r\n",
    "mask0 = cv2.imread('D:/Hyens_Projects/Amumu/saved_amumu/maks0.jpg')"
   ],
   "outputs": [],
   "metadata": {}
  },
  {
   "cell_type": "code",
   "execution_count": 6,
   "source": [
    "cv2.imshow('original',original0)\r\n",
    "cv2.waitKey(0)\r\n",
    "cv2.destroyAllWindows()"
   ],
   "outputs": [],
   "metadata": {}
  },
  {
   "cell_type": "code",
   "execution_count": 7,
   "source": [
    "black = original0*0"
   ],
   "outputs": [],
   "metadata": {}
  },
  {
   "cell_type": "code",
   "execution_count": 8,
   "source": [
    "good = cv2.copyTo(original0, mask0, black)"
   ],
   "outputs": [],
   "metadata": {}
  },
  {
   "cell_type": "code",
   "execution_count": 9,
   "source": [
    "cv2.imshow('good', good)\r\n",
    "cv2.waitKey(0)\r\n",
    "cv2.destroyAllWindows()"
   ],
   "outputs": [],
   "metadata": {}
  },
  {
   "cell_type": "code",
   "execution_count": 25,
   "source": [
    "cv2.imwrite('hand_amumu.jpg', good)"
   ],
   "outputs": [
    {
     "output_type": "execute_result",
     "data": {
      "text/plain": [
       "True"
      ]
     },
     "metadata": {},
     "execution_count": 25
    }
   ],
   "metadata": {}
  },
  {
   "cell_type": "code",
   "execution_count": 13,
   "source": [
    "original0 = cv2.imread('D:/Hyens_Projects/Amumu/saved_amumu/original0.jpg')\r\n",
    "converted = cv2.cvtColor(original0, cv2.COLOR_BGR2YCrCb)\r\n",
    "skinMask = cv2.inRange(converted, lower, upper)\r\n",
    "\r\n",
    "kernel = cv2.getStructuringElement(cv2.MORPH_ELLIPSE, (1,1))\r\n",
    "skinMask = cv2.dilate(skinMask, kernel, iterations = 1)\r\n",
    "skinMask = cv2.GaussianBlur(skinMask, (3,3), 0)\r\n",
    "line,_ = cv2.findContours(skinMask, cv2.RETR_EXTERNAL, cv2.CHAIN_APPROX_SIMPLE)\r\n",
    "cv2.drawContours(original0, line, -1, (255,255,255))\r\n",
    "\r\n",
    "cv2.imshow(\"images\", original0)\r\n",
    "cv2.waitKey(0)\r\n",
    "cv2.destroyAllWindows()"
   ],
   "outputs": [],
   "metadata": {}
  },
  {
   "cell_type": "code",
   "execution_count": null,
   "source": [],
   "outputs": [],
   "metadata": {}
  }
 ],
 "metadata": {
  "orig_nbformat": 4,
  "language_info": {
   "name": "python",
   "version": "3.8.5",
   "mimetype": "text/x-python",
   "codemirror_mode": {
    "name": "ipython",
    "version": 3
   },
   "pygments_lexer": "ipython3",
   "nbconvert_exporter": "python",
   "file_extension": ".py"
  },
  "kernelspec": {
   "name": "python3",
   "display_name": "Python 3.8.5 64-bit ('base': conda)"
  },
  "interpreter": {
   "hash": "b3ba2566441a7c06988d0923437866b63cedc61552a5af99d1f4fb67d367b25f"
  }
 },
 "nbformat": 4,
 "nbformat_minor": 2
}